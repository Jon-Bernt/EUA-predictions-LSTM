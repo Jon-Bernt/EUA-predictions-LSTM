{
 "cells": [
  {
   "cell_type": "code",
   "execution_count": 2,
   "metadata": {},
   "outputs": [
    {
     "name": "stderr",
     "output_type": "stream",
     "text": [
      "Using TensorFlow backend.\n"
     ]
    }
   ],
   "source": [
    "import math\n",
    "import matplotlib.pyplot as plt\n",
    "%matplotlib inline\n",
    "import pandas as pd\n",
    "import numpy as np\n",
    "import tensorflow as tf\n",
    "from keras.models import Sequential\n",
    "from keras.layers import Dense, LSTM\n",
    "from tensorflow import keras\n",
    "from sklearn.preprocessing import MinMaxScaler\n",
    "import eikon as ek\n",
    "ek.set_app_key(\"15fd3a43a9c74e33958b04533bfae5607781a37a\")\n"
   ]
  },
  {
   "cell_type": "code",
   "execution_count": 3,
   "metadata": {},
   "outputs": [],
   "source": [
    "%load_ext tensorboard\n",
    "import datetime, os\n"
   ]
  },
  {
   "cell_type": "code",
   "execution_count": 4,
   "metadata": {},
   "outputs": [
    {
     "name": "stderr",
     "output_type": "stream",
     "text": [
      "C:\\Users\\u6041727\\miniconda3\\envs\\tensorflow\\lib\\site-packages\\eikon\\time_series.py:282: FutureWarning: The pandas.np module is deprecated and will be removed from pandas in a future version. Import numpy directly instead\n",
      "  datapoints = pd.np.array(timeseries['dataPoints'])\n",
      "C:\\Users\\u6041727\\miniconda3\\envs\\tensorflow\\lib\\site-packages\\eikon\\time_series.py:284: FutureWarning: The pandas.np module is deprecated and will be removed from pandas in a future version. Import numpy directly instead\n",
      "  timestamps = pd.np.array([tz_replacer(value) for value in datapoints[:, timestamp_index]],\n",
      "C:\\Users\\u6041727\\miniconda3\\envs\\tensorflow\\lib\\site-packages\\eikon\\time_series.py:286: FutureWarning: The pandas.np module is deprecated and will be removed from pandas in a future version. Import numpy directly instead\n",
      "  datapoints = pd.np.delete(datapoints, pd.np.s_[timestamp_index],\n",
      "C:\\Users\\u6041727\\miniconda3\\envs\\tensorflow\\lib\\site-packages\\eikon\\time_series.py:209: FutureWarning: The pandas.np module is deprecated and will be removed from pandas in a future version. Import numpy directly instead\n",
      "  data_frame = data_frame.fillna(pd.np.nan)\n"
     ]
    },
    {
     "data": {
      "text/html": [
       "<div>\n",
       "<style scoped>\n",
       "    .dataframe tbody tr th:only-of-type {\n",
       "        vertical-align: middle;\n",
       "    }\n",
       "\n",
       "    .dataframe tbody tr th {\n",
       "        vertical-align: top;\n",
       "    }\n",
       "\n",
       "    .dataframe thead th {\n",
       "        text-align: right;\n",
       "    }\n",
       "</style>\n",
       "<table border=\"1\" class=\"dataframe\">\n",
       "  <thead>\n",
       "    <tr style=\"text-align: right;\">\n",
       "      <th></th>\n",
       "      <th>EUA</th>\n",
       "      <th>API2</th>\n",
       "      <th>TTF</th>\n",
       "      <th>Brent</th>\n",
       "    </tr>\n",
       "    <tr>\n",
       "      <th>Date</th>\n",
       "      <th></th>\n",
       "      <th></th>\n",
       "      <th></th>\n",
       "      <th></th>\n",
       "    </tr>\n",
       "  </thead>\n",
       "  <tbody>\n",
       "    <tr>\n",
       "      <th>2010-01-04</th>\n",
       "      <td>13.09</td>\n",
       "      <td>90.53</td>\n",
       "      <td>18.91</td>\n",
       "      <td>80.12</td>\n",
       "    </tr>\n",
       "    <tr>\n",
       "      <th>2010-01-05</th>\n",
       "      <td>12.70</td>\n",
       "      <td>94.14</td>\n",
       "      <td>18.88</td>\n",
       "      <td>80.59</td>\n",
       "    </tr>\n",
       "    <tr>\n",
       "      <th>2010-01-06</th>\n",
       "      <td>12.41</td>\n",
       "      <td>94.68</td>\n",
       "      <td>18.64</td>\n",
       "      <td>81.89</td>\n",
       "    </tr>\n",
       "    <tr>\n",
       "      <th>2010-01-07</th>\n",
       "      <td>12.73</td>\n",
       "      <td>97.73</td>\n",
       "      <td>18.72</td>\n",
       "      <td>81.51</td>\n",
       "    </tr>\n",
       "    <tr>\n",
       "      <th>2010-01-08</th>\n",
       "      <td>13.00</td>\n",
       "      <td>95.85</td>\n",
       "      <td>18.26</td>\n",
       "      <td>81.37</td>\n",
       "    </tr>\n",
       "  </tbody>\n",
       "</table>\n",
       "</div>"
      ],
      "text/plain": [
       "              EUA   API2    TTF  Brent\n",
       "Date                                  \n",
       "2010-01-04  13.09  90.53  18.91  80.12\n",
       "2010-01-05  12.70  94.14  18.88  80.59\n",
       "2010-01-06  12.41  94.68  18.64  81.89\n",
       "2010-01-07  12.73  97.73  18.72  81.51\n",
       "2010-01-08  13.00  95.85  18.26  81.37"
      ]
     },
     "execution_count": 4,
     "metadata": {},
     "output_type": "execute_result"
    }
   ],
   "source": [
    "#Importing year ahead continuation prices for carbon, coal, gas and oil (brent front month) using rics from Eikon and storing in seperate dataframes\n",
    "#before merging dataframes to one\n",
    "\n",
    "rics = [\"CFI2Zc1\", \"ATWYc1\", \"TRNLTTFYc1\", \"LCOc1\"]\n",
    "columns = [\"EUA\", \"API2\", \"TTF\", \"Brent\"] \n",
    "\n",
    "df_EUA = ek.get_timeseries(rics[0],\n",
    "                       start_date = \"2010-01-01\",\n",
    "                       fields = \"CLOSE\"\n",
    "                       )\n",
    "df_API2 = ek.get_timeseries(rics[1],\n",
    "                       start_date = \"2010-01-01\",\n",
    "                       fields = \"CLOSE\"\n",
    "                       )\n",
    "df_TTF = ek.get_timeseries(rics[2],\n",
    "                       start_date = \"2010-01-01\",\n",
    "                       fields = \"CLOSE\"\n",
    "                       )\n",
    "df_Brent = ek.get_timeseries(rics[3],\n",
    "                       start_date = \"2010-01-01\",\n",
    "                       fields = \"CLOSE\"\n",
    "                       )\n",
    "df_list = [df_EUA, df_API2, df_TTF, df_Brent]\n",
    "\n",
    "df = df_list[0]\n",
    "for df_ in df_list[1:]:\n",
    "    df = df.merge(df_, left_index=True, right_index=True)\n",
    "\n",
    "df.columns = columns\n",
    "df.dropna()\n",
    "df.index = pd.DatetimeIndex(data=df.index)\n",
    "df.head()"
   ]
  },
  {
   "cell_type": "code",
   "execution_count": 5,
   "metadata": {},
   "outputs": [
    {
     "name": "stdout",
     "output_type": "stream",
     "text": [
      "<class 'pandas.core.frame.DataFrame'>\n",
      "DatetimeIndex: 2569 entries, 2010-01-04 to 2020-02-17\n",
      "Data columns (total 4 columns):\n",
      " #   Column  Non-Null Count  Dtype  \n",
      "---  ------  --------------  -----  \n",
      " 0   EUA     2569 non-null   float64\n",
      " 1   API2    2569 non-null   float64\n",
      " 2   TTF     2568 non-null   float64\n",
      " 3   Brent   2569 non-null   float64\n",
      "dtypes: float64(4)\n",
      "memory usage: 100.4 KB\n"
     ]
    }
   ],
   "source": [
    "df.info()"
   ]
  },
  {
   "cell_type": "code",
   "execution_count": 6,
   "metadata": {},
   "outputs": [
    {
     "data": {
      "text/html": [
       "<div>\n",
       "<style scoped>\n",
       "    .dataframe tbody tr th:only-of-type {\n",
       "        vertical-align: middle;\n",
       "    }\n",
       "\n",
       "    .dataframe tbody tr th {\n",
       "        vertical-align: top;\n",
       "    }\n",
       "\n",
       "    .dataframe thead th {\n",
       "        text-align: right;\n",
       "    }\n",
       "</style>\n",
       "<table border=\"1\" class=\"dataframe\">\n",
       "  <thead>\n",
       "    <tr style=\"text-align: right;\">\n",
       "      <th></th>\n",
       "      <th>EUA</th>\n",
       "      <th>API2</th>\n",
       "      <th>TTF</th>\n",
       "      <th>Brent</th>\n",
       "      <th>Target</th>\n",
       "    </tr>\n",
       "    <tr>\n",
       "      <th>Date</th>\n",
       "      <th></th>\n",
       "      <th></th>\n",
       "      <th></th>\n",
       "      <th></th>\n",
       "      <th></th>\n",
       "    </tr>\n",
       "  </thead>\n",
       "  <tbody>\n",
       "    <tr>\n",
       "      <th>2010-01-05</th>\n",
       "      <td>12.70</td>\n",
       "      <td>94.14</td>\n",
       "      <td>18.88</td>\n",
       "      <td>80.59</td>\n",
       "      <td>13.09</td>\n",
       "    </tr>\n",
       "    <tr>\n",
       "      <th>2010-01-06</th>\n",
       "      <td>12.41</td>\n",
       "      <td>94.68</td>\n",
       "      <td>18.64</td>\n",
       "      <td>81.89</td>\n",
       "      <td>12.70</td>\n",
       "    </tr>\n",
       "    <tr>\n",
       "      <th>2010-01-07</th>\n",
       "      <td>12.73</td>\n",
       "      <td>97.73</td>\n",
       "      <td>18.72</td>\n",
       "      <td>81.51</td>\n",
       "      <td>12.41</td>\n",
       "    </tr>\n",
       "    <tr>\n",
       "      <th>2010-01-08</th>\n",
       "      <td>13.00</td>\n",
       "      <td>95.85</td>\n",
       "      <td>18.26</td>\n",
       "      <td>81.37</td>\n",
       "      <td>12.73</td>\n",
       "    </tr>\n",
       "    <tr>\n",
       "      <th>2010-01-11</th>\n",
       "      <td>13.18</td>\n",
       "      <td>93.50</td>\n",
       "      <td>18.06</td>\n",
       "      <td>80.97</td>\n",
       "      <td>13.00</td>\n",
       "    </tr>\n",
       "  </tbody>\n",
       "</table>\n",
       "</div>"
      ],
      "text/plain": [
       "              EUA   API2    TTF  Brent  Target\n",
       "Date                                          \n",
       "2010-01-05  12.70  94.14  18.88  80.59   13.09\n",
       "2010-01-06  12.41  94.68  18.64  81.89   12.70\n",
       "2010-01-07  12.73  97.73  18.72  81.51   12.41\n",
       "2010-01-08  13.00  95.85  18.26  81.37   12.73\n",
       "2010-01-11  13.18  93.50  18.06  80.97   13.00"
      ]
     },
     "execution_count": 6,
     "metadata": {},
     "output_type": "execute_result"
    }
   ],
   "source": [
    "#Create new column with target price for EUA which is next day's close\n",
    "df[\"Target\"] = df[\"EUA\"].shift(1)\n",
    "df = df.dropna()\n",
    "df.head()"
   ]
  },
  {
   "cell_type": "code",
   "execution_count": 7,
   "metadata": {},
   "outputs": [
    {
     "name": "stdout",
     "output_type": "stream",
     "text": [
      "<class 'pandas.core.frame.DataFrame'>\n",
      "DatetimeIndex: 2567 entries, 2010-01-05 to 2020-02-17\n",
      "Data columns (total 5 columns):\n",
      " #   Column  Non-Null Count  Dtype  \n",
      "---  ------  --------------  -----  \n",
      " 0   EUA     2567 non-null   float64\n",
      " 1   API2    2567 non-null   float64\n",
      " 2   TTF     2567 non-null   float64\n",
      " 3   Brent   2567 non-null   float64\n",
      " 4   Target  2567 non-null   float64\n",
      "dtypes: float64(5)\n",
      "memory usage: 120.3 KB\n"
     ]
    }
   ],
   "source": [
    "df.info()"
   ]
  },
  {
   "cell_type": "code",
   "execution_count": 8,
   "metadata": {},
   "outputs": [
    {
     "data": {
      "image/png": "[encoded data removed]",
      "text/plain": [
       "<Figure size 720x432 with 1 Axes>"
      ]
     },
     "metadata": {
      "needs_background": "light"
     },
     "output_type": "display_data"
    }
   ],
   "source": [
    "#fig, ax = plt.subplots()\n",
    "plt.figure(figsize=(10,6))\n",
    "plt.title(\"Close prices\", fontsize=14)\n",
    "plt.plot(df[\"EUA\"])\n",
    "#plt.xlabel(\"Date\", fontsize=18)\n",
    "plt.ylabel(\"Close price (€/t)\", fontsize=12)\n",
    "plt.legend(columns)\n",
    "plt.show()"
   ]
  },
  {
   "cell_type": "code",
   "execution_count": 9,
   "metadata": {},
   "outputs": [
    {
     "name": "stdout",
     "output_type": "stream",
     "text": [
      "(2567, 5)\n"
     ]
    },
    {
     "data": {
      "text/plain": [
       "24.33"
      ]
     },
     "execution_count": 9,
     "metadata": {},
     "output_type": "execute_result"
    }
   ],
   "source": [
    "#Filter out Target from df to create training dataset\n",
    "training_df = df.filter(columns)\n",
    "#Create numpy array \n",
    "data_np = df.values\n",
    "print(data_np.shape)\n",
    "data_np[-1,0]"
   ]
  },
  {
   "cell_type": "code",
   "execution_count": 10,
   "metadata": {},
   "outputs": [
    {
     "name": "stdout",
     "output_type": "stream",
     "text": [
      "(573, 1)\n",
      "Observations: 2567\n",
      "Training Observations: 2054\n",
      "Testing Observations: 573\n"
     ]
    }
   ],
   "source": [
    "#Create training and test data based only on EUA historic price\n",
    "train_size = math.ceil(len(data_np)*0.8)\n",
    "train = data_np[0:train_size,0]\n",
    "test = data_np[train_size - 60:,0]\n",
    "\n",
    "#Reshape data to 2D array\n",
    "train = train.reshape(-1,1)\n",
    "test = test.reshape(-1,1)\n",
    "print(test.shape)\n",
    "print('Observations: %d' % (len(data_np)))\n",
    "print('Training Observations: %d' % (len(train)))\n",
    "print('Testing Observations: %d' % (len(test)))\n"
   ]
  },
  {
   "cell_type": "code",
   "execution_count": 11,
   "metadata": {},
   "outputs": [
    {
     "name": "stdout",
     "output_type": "stream",
     "text": [
      "The mean of the training data is:  8.08537487828627\n",
      "The variance of the training data is:  13.697466826360138\n",
      "\n",
      "The mean of the test data is:  19.87282722513089\n",
      "The variance of the test data is:  39.450442268578165\n"
     ]
    }
   ],
   "source": [
    "#Calculating mean and variance for the EUA price for training and test dataset and we can see that the mean and variance are\n",
    "#different with a large margin between the two datasets -> not stationary data\n",
    "\n",
    "from numpy import mean\n",
    "from numpy import var\n",
    "mean_train = mean(train) #The average of the EUA price\n",
    "var_train = var(train) #Variance meassure how much values in the distribution varies with respect to the mean\n",
    "mean_test = mean(test)\n",
    "var_test = var(test)\n",
    "print(\"The mean of the training data is: \", mean_train)\n",
    "print(\"The variance of the training data is: \", var_train)\n",
    "print(\"\")\n",
    "print(\"The mean of the test data is: \", mean_test)\n",
    "print(\"The variance of the test data is: \", var_test)"
   ]
  },
  {
   "cell_type": "code",
   "execution_count": 12,
   "metadata": {},
   "outputs": [
    {
     "name": "stdout",
     "output_type": "stream",
     "text": [
      "(2054, 1)\n",
      "(573, 1)\n"
     ]
    }
   ],
   "source": [
    "#Scale and normalize the data\n",
    "#Scale (normalize) the data\n",
    "scaler = MinMaxScaler(feature_range = (0,1))\n",
    "scaled_training_data = scaler.fit_transform(train)\n",
    "scaled_test_data = scaler.fit_transform(test)\n",
    "print(scaled_training_data.shape)\n",
    "print(scaled_test_data.shape)"
   ]
  },
  {
   "cell_type": "code",
   "execution_count": 13,
   "metadata": {},
   "outputs": [
    {
     "name": "stdout",
     "output_type": "stream",
     "text": [
      "[array([0.68337912, 0.66346154, 0.68543956, 0.70398352, 0.71634615,\n",
      "       0.69505495, 0.71016484, 0.74519231, 0.72733516, 0.75274725,\n",
      "       0.75961538, 0.7293956 , 0.72115385, 0.71291209, 0.73489011,\n",
      "       0.74587912, 0.73145604, 0.7135989 , 0.69436813, 0.68475275,\n",
      "       0.68612637, 0.68681319, 0.71909341, 0.72252747, 0.75549451,\n",
      "       0.74175824, 0.72184066, 0.71703297, 0.70054945, 0.71291209,\n",
      "       0.72527473, 0.6978022 , 0.70123626, 0.67101648, 0.68887363,\n",
      "       0.68543956, 0.7081044 , 0.69711538, 0.70398352, 0.72664835,\n",
      "       0.72458791, 0.74107143, 0.71222527, 0.72458791, 0.71085165,\n",
      "       0.71291209, 0.71978022, 0.7032967 , 0.69711538, 0.71016484,\n",
      "       0.70260989, 0.70673077, 0.71153846, 0.71222527, 0.7135989 ,\n",
      "       0.69848901, 0.68887363, 0.68063187, 0.69848901, 0.68818681])]\n",
      "[0.6929945054945056]\n",
      "\n",
      "[array([0.68337912, 0.66346154, 0.68543956, 0.70398352, 0.71634615,\n",
      "       0.69505495, 0.71016484, 0.74519231, 0.72733516, 0.75274725,\n",
      "       0.75961538, 0.7293956 , 0.72115385, 0.71291209, 0.73489011,\n",
      "       0.74587912, 0.73145604, 0.7135989 , 0.69436813, 0.68475275,\n",
      "       0.68612637, 0.68681319, 0.71909341, 0.72252747, 0.75549451,\n",
      "       0.74175824, 0.72184066, 0.71703297, 0.70054945, 0.71291209,\n",
      "       0.72527473, 0.6978022 , 0.70123626, 0.67101648, 0.68887363,\n",
      "       0.68543956, 0.7081044 , 0.69711538, 0.70398352, 0.72664835,\n",
      "       0.72458791, 0.74107143, 0.71222527, 0.72458791, 0.71085165,\n",
      "       0.71291209, 0.71978022, 0.7032967 , 0.69711538, 0.71016484,\n",
      "       0.70260989, 0.70673077, 0.71153846, 0.71222527, 0.7135989 ,\n",
      "       0.69848901, 0.68887363, 0.68063187, 0.69848901, 0.68818681]), array([0.66346154, 0.68543956, 0.70398352, 0.71634615, 0.69505495,\n",
      "       0.71016484, 0.74519231, 0.72733516, 0.75274725, 0.75961538,\n",
      "       0.7293956 , 0.72115385, 0.71291209, 0.73489011, 0.74587912,\n",
      "       0.73145604, 0.7135989 , 0.69436813, 0.68475275, 0.68612637,\n",
      "       0.68681319, 0.71909341, 0.72252747, 0.75549451, 0.74175824,\n",
      "       0.72184066, 0.71703297, 0.70054945, 0.71291209, 0.72527473,\n",
      "       0.6978022 , 0.70123626, 0.67101648, 0.68887363, 0.68543956,\n",
      "       0.7081044 , 0.69711538, 0.70398352, 0.72664835, 0.72458791,\n",
      "       0.74107143, 0.71222527, 0.72458791, 0.71085165, 0.71291209,\n",
      "       0.71978022, 0.7032967 , 0.69711538, 0.71016484, 0.70260989,\n",
      "       0.70673077, 0.71153846, 0.71222527, 0.7135989 , 0.69848901,\n",
      "       0.68887363, 0.68063187, 0.69848901, 0.68818681, 0.69299451])]\n",
      "[0.6929945054945056, 0.6923076923076924]\n",
      "\n",
      "(1994, 60)\n",
      "(1994,)\n"
     ]
    }
   ],
   "source": [
    "#Split the data into x_train and y_train data sets.\n",
    "x_train = []\n",
    "y_train = []\n",
    "\n",
    "for i in range(60, len(scaled_training_data)):\n",
    "  x_train.append(scaled_training_data[i-60:i,0])\n",
    "  y_train.append(scaled_training_data[i,0])\n",
    "  if i<=61:\n",
    "    print(x_train)\n",
    "    print(y_train)\n",
    "    print()\n",
    "\n",
    "#Convert x_train and y_train to numpy arrays\n",
    "x_train, y_train = np.array(x_train), np.array(y_train)\n",
    "print(x_train.shape)\n",
    "print(y_train.shape)"
   ]
  },
  {
   "cell_type": "code",
   "execution_count": 14,
   "metadata": {},
   "outputs": [
    {
     "name": "stdout",
     "output_type": "stream",
     "text": [
      "(1994, 60)\n",
      "(1994,)\n"
     ]
    }
   ],
   "source": [
    "#Split the data into x_test and y_test data sets.\n",
    "x_test = []\n",
    "y_test = []\n",
    "\n",
    "for i in range(60, len(scaled_test_data)):\n",
    "    x_test.append(scaled_test_data[i-60:i,0])\n",
    "    y_test.append(scaled_test_data[i,0])\n",
    "    #if i<=61:\n",
    "        #print(x_test)\n",
    "\n",
    "#Convert x_train and y_train to numpy arrays\n",
    "x_test, y_test = np.array(x_test), np.array(y_test)\n",
    "print(x_train.shape)\n",
    "print(y_train.shape)"
   ]
  },
  {
   "cell_type": "code",
   "execution_count": 15,
   "metadata": {},
   "outputs": [
    {
     "name": "stdout",
     "output_type": "stream",
     "text": [
      "(1994, 60, 1)\n",
      "(513, 60, 1)\n"
     ]
    }
   ],
   "source": [
    "#Reshape the data as LSTM requires three dimensional shape\n",
    "X_train = np.reshape(x_train, (x_train.shape[0], x_train.shape[1],1))\n",
    "X_test = np.reshape(x_test, (x_test.shape[0], x_test.shape[1], 1))\n",
    "Y_train = y_train\n",
    "Y_test = y_test\n",
    "\n",
    "print(X_train.shape)\n",
    "print(X_test.shape)"
   ]
  },
  {
   "cell_type": "code",
   "execution_count": 18,
   "metadata": {},
   "outputs": [],
   "source": [
    "#Build the LSTM model\n",
    "\n",
    "# tf.keras.models.Sequential([tf.keras.layers.LSTM(10, return_sequences = True, input_shape=(x_train.shape[1],1)),\n",
    "# tf.keras.layers.LSTM(10, return_sequences = False),\n",
    "# tf.keras.layers.Dense(5),\n",
    "# tf.keras.layers.Dense(1)\n",
    "# ])\n",
    "\n",
    "model=Sequential()\n",
    "model.add(LSTM(10, return_sequences = True, input_shape=(X_train.shape[1],1)))\n",
    "model.add(LSTM(10, return_sequences = False))\n",
    "model.add(Dense(10))\n",
    "model.add(Dense(1))\n",
    "          "
   ]
  },
  {
   "cell_type": "code",
   "execution_count": 19,
   "metadata": {},
   "outputs": [],
   "source": [
    "#Compile the model using Adam optimizer and mean squared error to meassure loss\n",
    "model.compile(optimizer='adam',\n",
    "              loss='mean_squared_error')"
   ]
  },
  {
   "cell_type": "code",
   "execution_count": 20,
   "metadata": {},
   "outputs": [],
   "source": [
    "# import time\n",
    "# NAME = \"EUA_price_Eikon{}\".format(int(time.time()))\n",
    "# #logdir = os.path.join(\"logs\", datetime.datetime.now().strftime(\"%Y%m%d-%H%M%S\"))\n",
    "# tensorboard_callback = TensorBoard(log_dir=\"logs\\{}\".format(NAME))"
   ]
  },
  {
   "cell_type": "code",
   "execution_count": 21,
   "metadata": {},
   "outputs": [
    {
     "name": "stdout",
     "output_type": "stream",
     "text": [
      "Train on 1994 samples, validate on 513 samples\n",
      "Epoch 1/1\n",
      "1994/1994 [==============================] - 129s 65ms/step - loss: 0.0028 - val_loss: 0.0024\n"
     ]
    },
    {
     "data": {
      "text/plain": [
       "<keras.callbacks.callbacks.History at 0x29c16352048>"
      ]
     },
     "execution_count": 21,
     "metadata": {},
     "output_type": "execute_result"
    }
   ],
   "source": [
    "#Train the model\n",
    "model.fit(X_train, \n",
    "          Y_train,\n",
    "          batch_size=1,\n",
    "          epochs=1,\n",
    "          validation_data=(X_test, Y_test),\n",
    "          shuffle=True\n",
    "          )"
   ]
  },
  {
   "cell_type": "code",
   "execution_count": 26,
   "metadata": {},
   "outputs": [
    {
     "name": "stdout",
     "output_type": "stream",
     "text": [
      "Root mean squared error: 0.93\n",
      "Mean squared error: 0.87\n",
      "Model predicted yesterday's EUA price at: 23.5 yesterday\n",
      "Yesterday's price was: 24.29\n"
     ]
    }
   ],
   "source": [
    "#Get the model's predicted price values in test dataset\n",
    "predictions= model.predict(X_test)\n",
    "obj = scaler.fit(test)\n",
    "predictions = obj.inverse_transform(predictions)\n",
    "prediction = predictions[len(predictions)-1]\n",
    "\n",
    "#Transform y_test form normalized to normal numbers\n",
    "y_test_rescaled = scaler.inverse_transform(Y_test.reshape(-1,1))\n",
    "\n",
    "#Get the RMSE to meassure how accurate the model is (low RMSE- good performance!)\n",
    "rmse= np.sqrt( np.square(np.subtract(y_test_rescaled[:,0],predictions[:,0])).mean())\n",
    "mse = np.square(np.subtract(y_test_rescaled[:,0],predictions[:,0])).mean()\n",
    "\n",
    "print(\"Root mean squared error:\", round(rmse,2))\n",
    "print(\"Mean squared error:\", round(mse,2))\n",
    "print(\"Model predicted yesterday's EUA price at:\", round(float(predictions[-2]),2), \"yesterday\")\n",
    "print(\"Yesterday's price was:\", float(y_test_rescaled[-1]))\n"
   ]
  },
  {
   "cell_type": "code",
   "execution_count": 27,
   "metadata": {},
   "outputs": [
    {
     "name": "stdout",
     "output_type": "stream",
     "text": [
      "The model predicts today's price at: 23.81 based on last 60 days prices\n"
     ]
    }
   ],
   "source": [
    "#Predict day-ahead price\n",
    "prediction_df = data_np[train_size-60:,0]\n",
    "#Get the last 60 days closing prices and conver to array\n",
    "last_60_days = prediction_df[-60:]\n",
    "\n",
    "#Scale the data\n",
    "scaler = MinMaxScaler(feature_range = (0,1))\n",
    "last_60_days_scaled = scaler.fit_transform(last_60_days.reshape(-1,1))\n",
    "#Create an empty list\n",
    "X_predictions = []\n",
    "X_predictions.append(last_60_days_scaled)\n",
    "#Convert to numpy array\n",
    "X_predictions = np.array(X_predictions)\n",
    "#Reshape the data\n",
    "X_predictions = np.reshape(X_predictions, (X_predictions.shape[0], X_predictions.shape[1], 1))\n",
    "#Get predicted scaled prediction\n",
    "pred_price = model.predict(X_predictions)\n",
    "#Undo the scaling\n",
    "pred_price = scaler.inverse_transform(pred_price)\n",
    "pred_price = float(pred_price)\n",
    "print(\"The model predicts today's price at:\", round(pred_price,2), \"based on last 60 days prices\")\n"
   ]
  },
  {
   "cell_type": "code",
   "execution_count": 28,
   "metadata": {},
   "outputs": [
    {
     "data": {
      "text/plain": [
       "<function matplotlib.pyplot.show(*args, **kw)>"
      ]
     },
     "execution_count": 28,
     "metadata": {},
     "output_type": "execute_result"
    },
    {
     "data": {
      "image/png": "[encoded data removed]",
      "text/plain": [
       "<Figure size 1152x576 with 1 Axes>"
      ]
     },
     "metadata": {
      "needs_background": "light"
     },
     "output_type": "display_data"
    }
   ],
   "source": [
    "# #Plot the data\n",
    "training = df[\"EUA\"].iloc[2000:train_size]\n",
    "testing = df[\"EUA\"].iloc[train_size:]\n",
    "df_predictions = pd.DataFrame(predictions)\n",
    "df_predictions.index = pd.DatetimeIndex(data=testing.index)\n",
    "        \n",
    "#Visualize the data\n",
    "plt.figure(figsize=(16,8))\n",
    "plt.title(\"Modelling results for EUA day ahead\", fontsize = 18)\n",
    "plt.xlabel(\"Date (GMT)\", fontsize=12)\n",
    "plt.ylabel(\"Close Price USD\", fontsize=12)\n",
    "plt.plot(training, label = \"Training_actual\")\n",
    "plt.plot(testing, label = \"Test_actual\")\n",
    "plt.plot(df_predictions, \"--b\",label = \"Predictions\")\n",
    "\n",
    "plt.legend()\n",
    "plt.show"
   ]
  },
  {
   "cell_type": "code",
   "execution_count": 29,
   "metadata": {},
   "outputs": [
    {
     "name": "stdout",
     "output_type": "stream",
     "text": [
      "Neutral range is: 0.02\n",
      "Yesterday's closing price was:  24.29\n",
      "Today's predicted price is:  23.81\n",
      "Difference between pred_price and last_day: -0.48\n",
      "Daily view:  Bearish\n"
     ]
    }
   ],
   "source": [
    "#Define a classifier function which will classify if day-ahead price will go up, down or stay neutral\n",
    "from statistics import stdev\n",
    "\n",
    "def classify(last_day, neutral_range, pred_price):\n",
    "  if 0.43 * neutral_range > (pct_change.iloc[-1] - pct_change.iloc[-2]) > -0.43 * neutral_range:\n",
    "    return \"Neutral\"\n",
    "  elif float(pred_price) > float(last_day):\n",
    "    return \"Bullish\"\n",
    "  else:\n",
    "    return \"Bearish\" \n",
    "\n",
    "#Define last day and second last day\n",
    "last_day = float(y_test_rescaled[-1])\n",
    "second_last_day = float(y_test_rescaled[-2])\n",
    "\n",
    "#Neutral range = 0.43*σ > ∆p > -0.43*σ\n",
    "#∆p is  the price movement (in %) from one day to another and σ is the \n",
    "#standard deviation of daily price movements (in %) over the previous 3 months (assume 60 trading days).\n",
    "#Create dataframe with percentage change\n",
    "pct_change = df[\"EUA\"].pct_change()\n",
    "pct_change = pct_change.dropna()\n",
    "stdev_last_60_days = stdev(pct_change[len(pct_change)-60:])\n",
    "neutral_range = stdev_last_60_days\n",
    "\n",
    "\n",
    "print(\"Neutral range is:\", round(neutral_range, 2))\n",
    "print(\"Yesterday's closing price was: \", last_day)\n",
    "print(\"Today's predicted price is: \", round(pred_price, 2))\n",
    "print(\"Difference between pred_price and last_day:\",round((pred_price - last_day), 2))\n",
    "print(\"Daily view: \", classify(last_day,neutral_range, pred_price))\n"
   ]
  },
  {
   "cell_type": "code",
   "execution_count": 30,
   "metadata": {},
   "outputs": [
    {
     "name": "stdout",
     "output_type": "stream",
     "text": [
      "Actual signals:\n",
      "Neutral:\n",
      "165\n",
      "Bearish:\n",
      "131\n",
      "Bullish:\n",
      "157\n"
     ]
    }
   ],
   "source": [
    "#Performance test of the model. Based on historic price in test dataset, classify if next day's price was bullish, bearsih or\n",
    "#neutral. To do this: making a for loop over test dataset (real prices) to clissify. Then doing the same for predictions.\n",
    "\n",
    "actual_signal_list = []\n",
    "\n",
    "for i in range(len(test)-60*2):\n",
    "    if 0.43 * stdev(pct_change[len(pct_change)-i-60:len(pct_change)-i]) > ((test[-i] - test[-i-1])/test[-i-1]) > -0.43 * stdev(pct_change[len(pct_change)-i-60:len(pct_change)-i]):\n",
    "        actual_signal_list.append(\"Neutral\")\n",
    "    elif test[-i] >= test[-i-1] + (0.43 * stdev(pct_change[len(pct_change)-i-60:len(pct_change)-i])):\n",
    "        actual_signal_list.append(\"Bullish\")\n",
    "    else:\n",
    "        actual_signal_list.append(\"Bearish\")\n",
    "\n",
    "#Print number of actual signals\n",
    "actual_neutral=actual_signal_list.count(\"Neutral\")\n",
    "actual_bearish=actual_signal_list.count(\"Bearish\")\n",
    "actual_bullish=actual_signal_list.count(\"Bullish\")\n",
    "\n",
    "print(\"Actual signals:\",\"Neutral:\", actual_neutral,\"Bearish:\", actual_bearish, \"Bullish:\", actual_bullish,sep=\"\\n\")\n"
   ]
  },
  {
   "cell_type": "code",
   "execution_count": 34,
   "metadata": {},
   "outputs": [
    {
     "name": "stdout",
     "output_type": "stream",
     "text": [
      "Model predicted signals:\n",
      "Neutral:\n",
      "341\n",
      "Bearish:\n",
      "42\n",
      "Bullish:\n",
      "70\n"
     ]
    }
   ],
   "source": [
    "#Creating percentage difference dataframe from model predictions. \n",
    "pct_pred = df_predictions.pct_change().dropna()\n",
    "\n",
    "pred_signal_list = []\n",
    "\n",
    "for i in range(len(predictions)-60):\n",
    "    if 0.43 * stdev(pct_change[len(pct_change)-i-60:len(pct_change)-i]) > ((predictions[-i-1] - predictions[-i-2])/predictions[-i-2]) > -0.43 * stdev(pct_change[len(pct_change)-i-60:len(pct_change)-i]):\n",
    "        pred_signal_list.append(\"Neutral\")\n",
    "    elif predictions[-i-1] >= predictions[-i-2] + 0.43 * stdev(pct_change[len(pct_change)-i-60:len(pct_change)-i]):\n",
    "        pred_signal_list.append(\"Bullish\")\n",
    "    else:\n",
    "        pred_signal_list.append(\"Bearish\")\n",
    "\n",
    "#Print number of actual signals\n",
    "pred_neutral=pred_signal_list.count(\"Neutral\")\n",
    "pred_bearish=pred_signal_list.count(\"Bearish\")\n",
    "pred_bullish=pred_signal_list.count(\"Bullish\")\n",
    "\n",
    "print(\"Model predicted signals:\", \"Neutral:\",pred_neutral,\"Bearish:\",pred_bearish,\"Bullish:\", pred_bullish,sep=\"\\n\")        \n"
   ]
  },
  {
   "cell_type": "code",
   "execution_count": 35,
   "metadata": {},
   "outputs": [
    {
     "name": "stdout",
     "output_type": "stream",
     "text": [
      "Signal matches: 161\n",
      "Accuracy: 0.3554083885209713\n"
     ]
    }
   ],
   "source": [
    "#Accuracy of the model\n",
    "correct_pred_signals = 0\n",
    "for i in range(len(actual_signal_list)):\n",
    "    if actual_signal_list[i] == pred_signal_list[i]:\n",
    "        correct_pred_signals += 1\n",
    "\n",
    "Accuracy = correct_pred_signals/len(actual_signal_list)\n",
    "print(\"Signal matches:\", correct_pred_signals)\n",
    "print(\"Accuracy:\", Accuracy)"
   ]
  },
  {
   "cell_type": "code",
   "execution_count": 36,
   "metadata": {},
   "outputs": [
    {
     "name": "stdout",
     "output_type": "stream",
     "text": [
      "Results of Dickey-Fuller Test:\n",
      "Test Statistic                   -0.264334\n",
      "p-value                           0.930406\n",
      "#Lags Used                       28.000000\n",
      "Number of Observations Used    2537.000000\n",
      "Critical Value (1%)              -3.432930\n",
      "Critical Value (5%)              -2.862680\n",
      "Critical Value (10%)             -2.567377\n",
      "dtype: float64\n",
      "Test Statistic is less than critical value; data is non stationary\n"
     ]
    }
   ],
   "source": [
    "#Checking for stationarity in the EUA timeseries\n",
    "#Source: https://www.analyticsvidhya.com/blog/2018/09/non-stationary-time-series-python/\n",
    "#define function for ADF test\n",
    "#Null Hypothesis: The series has a unit root (value of a =1)\n",
    "#Alternate Hypothesis: The series has no unit root.\n",
    "\n",
    "from statsmodels.tsa.stattools import adfuller\n",
    "def adf_test(timeseries):\n",
    "    #Perform Dickey-Fuller test:\n",
    "    print ('Results of Dickey-Fuller Test:')\n",
    "    dftest = adfuller(timeseries, autolag='AIC')\n",
    "    dfoutput = pd.Series(dftest[0:4], index=['Test Statistic','p-value','#Lags Used','Number of Observations Used'])\n",
    "    for key,value in dftest[4].items():\n",
    "       dfoutput['Critical Value (%s)'%key] = value\n",
    "    print (dfoutput)\n",
    "\n",
    "#apply adf test on the series\n",
    "adf_test(training_df[\"EUA\"])\n",
    "\n",
    "print(\"Test Statistic is less than critical value; data is non stationary\")\n",
    "\n",
    "#Test for stationarity: If the test statistic is less than the critical value, we can reject the null hypothesis (aka the series is stationary). When the test statistic is greater than the critical value, we fail to reject the null hypothesis (which means the series is not stationary)."
   ]
  },
  {
   "cell_type": "code",
   "execution_count": 37,
   "metadata": {},
   "outputs": [
    {
     "name": "stdout",
     "output_type": "stream",
     "text": [
      "Results of Dickey-Fuller Test:\n",
      "Test Statistic                   -1.602101\n",
      "p-value                           0.482538\n",
      "#Lags Used                        0.000000\n",
      "Number of Observations Used    2052.000000\n",
      "Critical Value (1%)              -3.433541\n",
      "Critical Value (5%)              -2.862950\n",
      "Critical Value (10%)             -2.567520\n",
      "dtype: float64\n",
      "Test Statistic is much lower than before scaling/ normalizing but still not lower than critical value; data is non stationary\n"
     ]
    }
   ],
   "source": [
    "#Checking for stationarity in scaled EUA timeseries\n",
    "#Source: https://www.analyticsvidhya.com/blog/2018/09/non-stationary-time-series-python/\n",
    "#define function for ADF test\n",
    "#Null Hypothesis: The series has a unit root (value of a =1)\n",
    "#Alternate Hypothesis: The series has no unit root.\n",
    "\n",
    "#Creating dataframe to feed into ADF test\n",
    "scaled_df = pd.DataFrame(scaled_training_data)\n",
    "\n",
    "from statsmodels.tsa.stattools import adfuller\n",
    "def adf_test(timeseries):\n",
    "    #Perform Dickey-Fuller test:\n",
    "    print ('Results of Dickey-Fuller Test:')\n",
    "    dftest = adfuller(timeseries, autolag='AIC')\n",
    "    dfoutput = pd.Series(dftest[0:4], index=['Test Statistic','p-value','#Lags Used','Number of Observations Used'])\n",
    "    for key,value in dftest[4].items():\n",
    "       dfoutput['Critical Value (%s)'%key] = value\n",
    "    print (dfoutput)\n",
    "\n",
    "#apply adf test on the series\n",
    "adf_test(scaled_df[0])\n",
    "\n",
    "print(\"Test Statistic is much lower than before scaling/ normalizing but still not lower than critical value; data is non stationary\")"
   ]
  },
  {
   "cell_type": "code",
   "execution_count": 48,
   "metadata": {},
   "outputs": [
    {
     "name": "stdout",
     "output_type": "stream",
     "text": [
      "Actual signals:\n",
      "Bearish:\n",
      "208\n",
      "Bullish:\n",
      "245\n"
     ]
    }
   ],
   "source": [
    "#Bullish or bearish\n",
    "binary_signal_list = []\n",
    "\n",
    "for i in range(len(test)-60*2):\n",
    "    if test[-i] >= test[-i-1]:\n",
    "        binary_signal_list.append(\"Bullish\")\n",
    "    else:\n",
    "        binary_signal_list.append(\"Bearish\")\n",
    "\n",
    "#Print number of actual signals\n",
    "binary_bearish=binary_signal_list.count(\"Bearish\")\n",
    "binary_bullish=binary_signal_list.count(\"Bullish\")\n",
    "\n",
    "print(\"Actual signals:\",\"Bearish:\", binary_bearish, \"Bullish:\", binary_bullish,sep=\"\\n\")"
   ]
  },
  {
   "cell_type": "code",
   "execution_count": 49,
   "metadata": {},
   "outputs": [
    {
     "name": "stdout",
     "output_type": "stream",
     "text": [
      "Actual signals:\n",
      "Bearish:\n",
      "220\n",
      "Bullish:\n",
      "233\n"
     ]
    }
   ],
   "source": [
    "#Bullish or bearish\n",
    "binary_pred_signal_list = []\n",
    "\n",
    "for i in range(len(test)-60*2):\n",
    "    if predictions[-i] >= test[-i-1]:\n",
    "        binary_pred_signal_list.append(\"Bullish\")\n",
    "    else:\n",
    "        binary_pred_signal_list.append(\"Bearish\")\n",
    "\n",
    "#Print number of actual signals\n",
    "binary_pred_bearish=binary_pred_signal_list.count(\"Bearish\")\n",
    "binary_pred_bullish=binary_pred_signal_list.count(\"Bullish\")\n",
    "\n",
    "print(\"Actual signals:\",\"Bearish:\", binary_pred_bearish, \"Bullish:\", binary_pred_bullish,sep=\"\\n\")"
   ]
  },
  {
   "cell_type": "code",
   "execution_count": 50,
   "metadata": {},
   "outputs": [
    {
     "name": "stdout",
     "output_type": "stream",
     "text": [
      "Signal matches: 239\n",
      "Accuracy: 0.5275938189845475\n"
     ]
    }
   ],
   "source": [
    "correct_pred_signals = 0\n",
    "for i in range(len(binary_signal_list)):\n",
    "    if binary_signal_list[i] == binary_pred_signal_list[i]:\n",
    "        correct_pred_signals += 1\n",
    "\n",
    "Accuracy = correct_pred_signals/len(binary_signal_list)\n",
    "print(\"Signal matches:\", correct_pred_signals)\n",
    "print(\"Accuracy:\", Accuracy)"
   ]
  },
  {
   "cell_type": "code",
   "execution_count": null,
   "metadata": {},
   "outputs": [],
   "source": []
  }
 ],
 "metadata": {
  "kernelspec": {
   "display_name": "Python 3.7 (tensorflow)",
   "language": "python",
   "name": "tensorflow"
  },
  "language_info": {
   "codemirror_mode": {
    "name": "ipython",
    "version": 3
   },
   "file_extension": ".py",
   "mimetype": "text/x-python",
   "name": "python",
   "nbconvert_exporter": "python",
   "pygments_lexer": "ipython3",
   "version": "3.7.6"
  }
 },
 "nbformat": 4,
 "nbformat_minor": 2
}
